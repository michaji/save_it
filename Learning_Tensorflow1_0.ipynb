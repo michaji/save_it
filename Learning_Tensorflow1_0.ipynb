{
  "nbformat": 4,
  "nbformat_minor": 0,
  "metadata": {
    "colab": {
      "name": "Learning Tensorflow1.0.ipynb",
      "provenance": [],
      "collapsed_sections": [],
      "authorship_tag": "ABX9TyOCLEt8Staj1hleZvHOhLZi",
      "include_colab_link": true
    },
    "kernelspec": {
      "name": "python3",
      "display_name": "Python 3"
    }
  },
  "cells": [
    {
      "cell_type": "markdown",
      "metadata": {
        "id": "view-in-github",
        "colab_type": "text"
      },
      "source": [
        "<a href=\"https://colab.research.google.com/github/michaji/save_it/blob/master/Learning_Tensorflow1_0.ipynb\" target=\"_parent\"><img src=\"https://colab.research.google.com/assets/colab-badge.svg\" alt=\"Open In Colab\"/></a>"
      ]
    },
    {
      "cell_type": "code",
      "metadata": {
        "id": "0DzFQ3TFgHFS"
      },
      "source": [
        "import numpy as np\n",
        "import sklearn as sk\n",
        "import seaborn as sns\n",
        "import tensorflow.compat.v1 as tf\n",
        "tf.disable_eager_execution()\n",
        "import pandas as pd\n",
        "import warnings\n",
        "warnings.filterwarnings('ignore')\n",
        "import os"
      ],
      "execution_count": null,
      "outputs": []
    },
    {
      "cell_type": "code",
      "metadata": {
        "id": "PCYFlZnWnsrr"
      },
      "source": [
        "x = tf.Variable(34, name = 'x')\n",
        "y = tf.Variable(12, name = 'y')\n",
        "z = tf.Variable(45, name = 'z')\n",
        "f = pow(x,3) + pow(x,2)*y +y*z"
      ],
      "execution_count": null,
      "outputs": []
    },
    {
      "cell_type": "code",
      "metadata": {
        "colab": {
          "base_uri": "https://localhost:8080/"
        },
        "id": "afbpMKqho_ym",
        "outputId": "7a728e73-2886-4c98-eb68-c3d6352f1ace"
      },
      "source": [
        "with tf.Session() as sess:\n",
        "  init = tf.global_variables_initializer()\n",
        "  init.run()\n",
        "  result = f.eval()\n",
        "  print(result)"
      ],
      "execution_count": null,
      "outputs": [
        {
          "output_type": "stream",
          "text": [
            "53716\n"
          ],
          "name": "stdout"
        }
      ]
    },
    {
      "cell_type": "code",
      "metadata": {
        "id": "l-XzkHwWutNy"
      },
      "source": [
        "a1 = tf.constant(3)\n",
        "a2 = a1 + 12\n",
        "a3 = a2 - 8"
      ],
      "execution_count": null,
      "outputs": []
    },
    {
      "cell_type": "code",
      "metadata": {
        "colab": {
          "base_uri": "https://localhost:8080/"
        },
        "id": "Q6RgJg95wfL8",
        "outputId": "713db9e8-bf4e-4f7a-f1d8-e8f838ce43b7"
      },
      "source": [
        "with tf.Session() as sess:\n",
        "  init = tf.global_variables_initializer()\n",
        "  init.run()\n",
        "  a = a3.eval()\n",
        "  print(a)"
      ],
      "execution_count": null,
      "outputs": [
        {
          "output_type": "stream",
          "text": [
            "7\n"
          ],
          "name": "stdout"
        }
      ]
    },
    {
      "cell_type": "markdown",
      "metadata": {
        "id": "vXDj6RhuMJod"
      },
      "source": [
        "##**Matrix Operation**"
      ]
    },
    {
      "cell_type": "markdown",
      "metadata": {
        "id": "qL9jNO__aL_8"
      },
      "source": [
        "###**Multiplication**"
      ]
    },
    {
      "cell_type": "code",
      "metadata": {
        "colab": {
          "base_uri": "https://localhost:8080/"
        },
        "id": "TptDkrzNxCNq",
        "outputId": "4ba13bb2-f7f6-4633-9e8e-0f383bc5e442"
      },
      "source": [
        "m = tf.ones((20, 5))\n",
        "n = tf.zeros((5, 20))\n",
        "k = tf.ones((5,5))\n",
        "\n",
        "y = tf.matmul(n,m) + k\n",
        "\n",
        "with tf.Session() as sess:\n",
        "  init = tf.global_variables_initializer()\n",
        "  init.run()\n",
        "  matrix = y.eval()\n",
        "\n",
        "\n",
        "print(matrix)"
      ],
      "execution_count": null,
      "outputs": [
        {
          "output_type": "stream",
          "text": [
            "[[1. 1. 1. 1. 1.]\n",
            " [1. 1. 1. 1. 1.]\n",
            " [1. 1. 1. 1. 1.]\n",
            " [1. 1. 1. 1. 1.]\n",
            " [1. 1. 1. 1. 1.]]\n"
          ],
          "name": "stdout"
        }
      ]
    },
    {
      "cell_type": "code",
      "metadata": {
        "id": "G8ZPKchiXbgQ"
      },
      "source": [
        ""
      ],
      "execution_count": null,
      "outputs": []
    },
    {
      "cell_type": "markdown",
      "metadata": {
        "id": "Vn5tDgOxXZtW"
      },
      "source": [
        "###**Determinant**"
      ]
    },
    {
      "cell_type": "code",
      "metadata": {
        "colab": {
          "base_uri": "https://localhost:8080/"
        },
        "id": "rGTrMRyTXWYy",
        "outputId": "8ec923bb-7f0a-4624-8506-cf329e1ed88f"
      },
      "source": [
        "arr = np.array([[2.0, 4.0, 6.6],\n",
        "                [6.6, 8.2, 1.1],\n",
        "                [7.4, 4.1, 2.9]])\n",
        "\n",
        "v = tf.matrix_determinant(arr)\n",
        "\n",
        "with tf.Session() as sess:\n",
        "  out = v.eval()\n",
        "  print(out)"
      ],
      "execution_count": null,
      "outputs": [
        {
          "output_type": "stream",
          "name": "stdout",
          "text": [
            "-227.352\n"
          ]
        }
      ]
    },
    {
      "cell_type": "markdown",
      "metadata": {
        "id": "z7rZ0pAPZaZU"
      },
      "source": [
        "###**Inverse**"
      ]
    },
    {
      "cell_type": "code",
      "metadata": {
        "colab": {
          "base_uri": "https://localhost:8080/"
        },
        "id": "KM07FWhmZWhs",
        "outputId": "ba5a8ade-b403-49f6-8e60-c28d0d1042c3"
      },
      "source": [
        "inv_mat = tf.matrix_inverse(arr)\n",
        "\n",
        "with  tf.Session() as sess:\n",
        "  init = tf.global_variables_initializer()\n",
        "  init.run()\n",
        "  inv = inv_mat.eval()\n",
        "  print(inv)"
      ],
      "execution_count": null,
      "outputs": [
        {
          "output_type": "stream",
          "name": "stdout",
          "text": [
            "[[-0.08475844 -0.06800028  0.21869172]\n",
            " [ 0.04838312  0.18930997 -0.18192055]\n",
            " [ 0.14787642 -0.09412717  0.04398466]]\n"
          ]
        }
      ]
    },
    {
      "cell_type": "markdown",
      "metadata": {
        "id": "N5cCgjdXasRb"
      },
      "source": [
        "###**Transpose**"
      ]
    },
    {
      "cell_type": "code",
      "metadata": {
        "colab": {
          "base_uri": "https://localhost:8080/"
        },
        "id": "Ax2Uotu4aZdN",
        "outputId": "d728ad85-41ca-4bad-8d81-e65ddb256854"
      },
      "source": [
        "trans = tf.matrix_transpose(inv_mat)\n",
        "with tf.Session() as sess:\n",
        "  init = tf.global_variables_initializer()\n",
        "  init.run()\n",
        "  trans_n = trans.eval()\n",
        "  print(trans_n)"
      ],
      "execution_count": null,
      "outputs": [
        {
          "output_type": "stream",
          "name": "stdout",
          "text": [
            "[[-0.08475844  0.04838312  0.14787642]\n",
            " [-0.06800028  0.18930997 -0.09412717]\n",
            " [ 0.21869172 -0.18192055  0.04398466]]\n"
          ]
        }
      ]
    },
    {
      "cell_type": "markdown",
      "metadata": {
        "id": "WklgM5vubT6W"
      },
      "source": [
        "###**Diagonal Matrix**"
      ]
    },
    {
      "cell_type": "code",
      "metadata": {
        "colab": {
          "base_uri": "https://localhost:8080/"
        },
        "id": "fpXmau9Ba_WF",
        "outputId": "1f2188ec-fc7e-4a06-c547-961358b84e83"
      },
      "source": [
        "diag = tf.matrix_diag(inv_mat)\n",
        "with tf.Session() as sess:\n",
        "  init = tf.global_variables_initializer()\n",
        "  init.run()\n",
        "  diagonal =diag.eval()\n",
        "  print(diagonal)"
      ],
      "execution_count": null,
      "outputs": [
        {
          "output_type": "stream",
          "name": "stdout",
          "text": [
            "[[[-0.08475844  0.          0.        ]\n",
            "  [ 0.         -0.06800028  0.        ]\n",
            "  [ 0.          0.          0.21869172]]\n",
            "\n",
            " [[ 0.04838312  0.          0.        ]\n",
            "  [ 0.          0.18930997  0.        ]\n",
            "  [ 0.          0.         -0.18192055]]\n",
            "\n",
            " [[ 0.14787642  0.          0.        ]\n",
            "  [ 0.         -0.09412717  0.        ]\n",
            "  [ 0.          0.          0.04398466]]]\n"
          ]
        }
      ]
    },
    {
      "cell_type": "markdown",
      "metadata": {
        "id": "s7Mwj-NYiI3k"
      },
      "source": [
        "###**Argmax and Argmin**"
      ]
    },
    {
      "cell_type": "markdown",
      "metadata": {
        "id": "-CaCdZZIiPJN"
      },
      "source": [
        "**Argmax**"
      ]
    },
    {
      "cell_type": "code",
      "metadata": {
        "colab": {
          "base_uri": "https://localhost:8080/"
        },
        "id": "GUg_QcGCbaX-",
        "outputId": "97efdb4b-0f6c-45ec-80b9-ec7eb025cd92"
      },
      "source": [
        "dis = tf.argmax([3,20,4,15], name = 'dis')\n",
        "\n",
        "with tf.Session() as sess:\n",
        "  print(dis.eval())"
      ],
      "execution_count": null,
      "outputs": [
        {
          "output_type": "stream",
          "name": "stdout",
          "text": [
            "1\n"
          ]
        }
      ]
    },
    {
      "cell_type": "markdown",
      "metadata": {
        "id": "WrOcZn9yiUha"
      },
      "source": [
        "**Argmin**"
      ]
    },
    {
      "cell_type": "code",
      "metadata": {
        "colab": {
          "base_uri": "https://localhost:8080/"
        },
        "id": "cvQtENj1iLNn",
        "outputId": "c2668b54-83e4-41ee-90cb-16a7405ae35b"
      },
      "source": [
        "arg = tf.argmin([4, 3, 20, 15], name = 'dis')\n",
        "\n",
        "with tf.Session() as sess:\n",
        "  print(dis.eval())"
      ],
      "execution_count": null,
      "outputs": [
        {
          "output_type": "stream",
          "text": [
            "2\n"
          ],
          "name": "stdout"
        }
      ]
    },
    {
      "cell_type": "code",
      "metadata": {
        "colab": {
          "base_uri": "https://localhost:8080/"
        },
        "id": "HYfZr3UNj_A6",
        "outputId": "3e12fb0d-d6d7-4493-cdd2-42c05921dbd2"
      },
      "source": [
        "arr"
      ],
      "execution_count": null,
      "outputs": [
        {
          "output_type": "execute_result",
          "data": {
            "text/plain": [
              "array([[2. , 4. , 6.6],\n",
              "       [6.6, 8.2, 1.1],\n",
              "       [7.4, 4.1, 2.9]])"
            ]
          },
          "metadata": {},
          "execution_count": 10
        }
      ]
    },
    {
      "cell_type": "code",
      "metadata": {
        "colab": {
          "base_uri": "https://localhost:8080/"
        },
        "id": "RkRJJ5LMjTAB",
        "outputId": "4eaf5ab7-d35e-4045-ed73-1daac208776b"
      },
      "source": [
        "arg = tf.argmin(arr, axis=0)\n",
        "with tf.Session() as sess:\n",
        "  init = tf.global_variables_initializer()\n",
        "  init.run()\n",
        "  print(arg.eval())"
      ],
      "execution_count": null,
      "outputs": [
        {
          "output_type": "stream",
          "name": "stdout",
          "text": [
            "[0 0 1]\n"
          ]
        }
      ]
    },
    {
      "cell_type": "markdown",
      "metadata": {
        "id": "lezpTDI8nJWp"
      },
      "source": [
        "###**Confusion Matrix**"
      ]
    },
    {
      "cell_type": "code",
      "metadata": {
        "colab": {
          "base_uri": "https://localhost:8080/"
        },
        "id": "j2OByUWFnLdd",
        "outputId": "8bf372db-cf6e-42e2-faca-a1fb1874e8aa"
      },
      "source": [
        "a = tf.random_uniform((90,),minval = 0, maxval=1)\n",
        "b = tf.random_uniform((90,), minval =0, maxval =1)\n",
        "pred = tf.round(a, 'pred')\n",
        "y_true = tf.round(b, 'y_true')\n",
        "\n",
        "confusion_mat = tf.confusion_matrix(pred, y_true, name= 'confusion_Matrix')\n",
        "with tf.Session() as sess:\n",
        "  init = tf.global_variables_initializer()\n",
        "  init.run()\n",
        "  print(confusion_mat.eval())"
      ],
      "execution_count": null,
      "outputs": [
        {
          "output_type": "stream",
          "text": [
            "[[20 21]\n",
            " [28 21]]\n"
          ],
          "name": "stdout"
        }
      ]
    },
    {
      "cell_type": "markdown",
      "metadata": {
        "id": "qfActJOXpHaz"
      },
      "source": [
        "###**Placeholders**"
      ]
    },
    {
      "cell_type": "code",
      "metadata": {
        "colab": {
          "base_uri": "https://localhost:8080/"
        },
        "id": "bXpNrruIpLHz",
        "outputId": "3edfcf59-cd9f-418a-99ae-56554862781d"
      },
      "source": [
        "A = tf.placeholder(tf.float32, shape = (None, 3))\n",
        "B = A + 5\n",
        "\n",
        "with tf.Session() as sess:\n",
        "  b_val = B.eval(feed_dict = {A:[[1,2,3]]})\n",
        "  b_val_u = B.eval(feed_dict = {A:[[4,5,6,], [7,8,9]]})\n",
        "\n",
        "print(b_val)"
      ],
      "execution_count": null,
      "outputs": [
        {
          "output_type": "stream",
          "text": [
            "[[6. 7. 8.]]\n"
          ],
          "name": "stdout"
        }
      ]
    }
  ]
}